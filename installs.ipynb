{
 "cells": [
  {
   "cell_type": "code",
   "execution_count": 2,
   "metadata": {},
   "outputs": [
    {
     "name": "stdout",
     "output_type": "stream",
     "text": [
      "^C\n",
      "Note: you may need to restart the kernel to use updated packages.\n"
     ]
    }
   ],
   "source": [
    "%pip install yellowbrick"
   ]
  },
  {
   "cell_type": "code",
   "execution_count": 1,
   "metadata": {},
   "outputs": [
    {
     "name": "stdout",
     "output_type": "stream",
     "text": [
      "Collecting streamlit-tensorboard\n",
      "  Obtaining dependency information for streamlit-tensorboard from https://files.pythonhosted.org/packages/41/6c/c887ac8bb53c0fe5fc846ec2dbd66bb130dbc9e49d8af6ce74bd4c9e52b8/streamlit_tensorboard-0.0.2-py3-none-any.whl.metadata\n",
      "  Downloading streamlit_tensorboard-0.0.2-py3-none-any.whl.metadata (455 bytes)\n",
      "Requirement already satisfied: streamlit>=0.63 in c:\\users\\julius\\anaconda3\\lib\\site-packages (from streamlit-tensorboard) (1.32.1)\n",
      "Requirement already satisfied: tensorboard>=2.5.0 in c:\\users\\julius\\anaconda3\\lib\\site-packages (from streamlit-tensorboard) (2.16.2)\n",
      "Requirement already satisfied: altair<6,>=4.0 in c:\\users\\julius\\anaconda3\\lib\\site-packages (from streamlit>=0.63->streamlit-tensorboard) (5.2.0)\n",
      "Requirement already satisfied: blinker<2,>=1.0.0 in c:\\users\\julius\\anaconda3\\lib\\site-packages (from streamlit>=0.63->streamlit-tensorboard) (1.7.0)\n",
      "Requirement already satisfied: cachetools<6,>=4.0 in c:\\users\\julius\\anaconda3\\lib\\site-packages (from streamlit>=0.63->streamlit-tensorboard) (5.3.3)\n",
      "Requirement already satisfied: click<9,>=7.0 in c:\\users\\julius\\anaconda3\\lib\\site-packages (from streamlit>=0.63->streamlit-tensorboard) (8.0.4)\n",
      "Requirement already satisfied: numpy<2,>=1.19.3 in c:\\users\\julius\\anaconda3\\lib\\site-packages (from streamlit>=0.63->streamlit-tensorboard) (1.24.3)\n",
      "Requirement already satisfied: packaging<24,>=16.8 in c:\\users\\julius\\anaconda3\\lib\\site-packages (from streamlit>=0.63->streamlit-tensorboard) (23.1)\n",
      "Requirement already satisfied: pandas<3,>=1.3.0 in c:\\users\\julius\\anaconda3\\lib\\site-packages (from streamlit>=0.63->streamlit-tensorboard) (2.0.3)\n",
      "Requirement already satisfied: pillow<11,>=7.1.0 in c:\\users\\julius\\anaconda3\\lib\\site-packages (from streamlit>=0.63->streamlit-tensorboard) (9.4.0)\n",
      "Requirement already satisfied: protobuf<5,>=3.20 in c:\\users\\julius\\anaconda3\\lib\\site-packages (from streamlit>=0.63->streamlit-tensorboard) (4.25.3)\n",
      "Requirement already satisfied: pyarrow>=7.0 in c:\\users\\julius\\anaconda3\\lib\\site-packages (from streamlit>=0.63->streamlit-tensorboard) (11.0.0)\n",
      "Requirement already satisfied: requests<3,>=2.27 in c:\\users\\julius\\anaconda3\\lib\\site-packages (from streamlit>=0.63->streamlit-tensorboard) (2.31.0)\n",
      "Requirement already satisfied: rich<14,>=10.14.0 in c:\\users\\julius\\anaconda3\\lib\\site-packages (from streamlit>=0.63->streamlit-tensorboard) (13.7.1)\n",
      "Requirement already satisfied: tenacity<9,>=8.1.0 in c:\\users\\julius\\anaconda3\\lib\\site-packages (from streamlit>=0.63->streamlit-tensorboard) (8.2.2)\n",
      "Requirement already satisfied: toml<2,>=0.10.1 in c:\\users\\julius\\anaconda3\\lib\\site-packages (from streamlit>=0.63->streamlit-tensorboard) (0.10.2)\n",
      "Requirement already satisfied: typing-extensions<5,>=4.3.0 in c:\\users\\julius\\anaconda3\\lib\\site-packages (from streamlit>=0.63->streamlit-tensorboard) (4.7.1)\n",
      "Requirement already satisfied: gitpython!=3.1.19,<4,>=3.0.7 in c:\\users\\julius\\anaconda3\\lib\\site-packages (from streamlit>=0.63->streamlit-tensorboard) (3.1.42)\n",
      "Requirement already satisfied: pydeck<1,>=0.8.0b4 in c:\\users\\julius\\anaconda3\\lib\\site-packages (from streamlit>=0.63->streamlit-tensorboard) (0.8.1b0)\n",
      "Requirement already satisfied: tornado<7,>=6.0.3 in c:\\users\\julius\\anaconda3\\lib\\site-packages (from streamlit>=0.63->streamlit-tensorboard) (6.3.2)\n",
      "Requirement already satisfied: watchdog>=2.1.5 in c:\\users\\julius\\anaconda3\\lib\\site-packages (from streamlit>=0.63->streamlit-tensorboard) (2.1.6)\n",
      "Requirement already satisfied: absl-py>=0.4 in c:\\users\\julius\\anaconda3\\lib\\site-packages (from tensorboard>=2.5.0->streamlit-tensorboard) (2.1.0)\n",
      "Requirement already satisfied: grpcio>=1.48.2 in c:\\users\\julius\\anaconda3\\lib\\site-packages (from tensorboard>=2.5.0->streamlit-tensorboard) (1.62.1)\n",
      "Requirement already satisfied: markdown>=2.6.8 in c:\\users\\julius\\anaconda3\\lib\\site-packages (from tensorboard>=2.5.0->streamlit-tensorboard) (3.4.1)\n",
      "Requirement already satisfied: setuptools>=41.0.0 in c:\\users\\julius\\anaconda3\\lib\\site-packages (from tensorboard>=2.5.0->streamlit-tensorboard) (68.0.0)\n",
      "Requirement already satisfied: six>1.9 in c:\\users\\julius\\anaconda3\\lib\\site-packages (from tensorboard>=2.5.0->streamlit-tensorboard) (1.16.0)\n",
      "Requirement already satisfied: tensorboard-data-server<0.8.0,>=0.7.0 in c:\\users\\julius\\anaconda3\\lib\\site-packages (from tensorboard>=2.5.0->streamlit-tensorboard) (0.7.2)\n",
      "Requirement already satisfied: werkzeug>=1.0.1 in c:\\users\\julius\\anaconda3\\lib\\site-packages (from tensorboard>=2.5.0->streamlit-tensorboard) (2.2.3)\n",
      "Requirement already satisfied: jinja2 in c:\\users\\julius\\anaconda3\\lib\\site-packages (from altair<6,>=4.0->streamlit>=0.63->streamlit-tensorboard) (3.1.2)\n",
      "Requirement already satisfied: jsonschema>=3.0 in c:\\users\\julius\\anaconda3\\lib\\site-packages (from altair<6,>=4.0->streamlit>=0.63->streamlit-tensorboard) (4.17.3)\n",
      "Requirement already satisfied: toolz in c:\\users\\julius\\anaconda3\\lib\\site-packages (from altair<6,>=4.0->streamlit>=0.63->streamlit-tensorboard) (0.12.0)\n",
      "Requirement already satisfied: colorama in c:\\users\\julius\\anaconda3\\lib\\site-packages (from click<9,>=7.0->streamlit>=0.63->streamlit-tensorboard) (0.4.6)\n",
      "Requirement already satisfied: gitdb<5,>=4.0.1 in c:\\users\\julius\\anaconda3\\lib\\site-packages (from gitpython!=3.1.19,<4,>=3.0.7->streamlit>=0.63->streamlit-tensorboard) (4.0.11)\n",
      "Requirement already satisfied: python-dateutil>=2.8.2 in c:\\users\\julius\\anaconda3\\lib\\site-packages (from pandas<3,>=1.3.0->streamlit>=0.63->streamlit-tensorboard) (2.8.2)\n",
      "Requirement already satisfied: pytz>=2020.1 in c:\\users\\julius\\anaconda3\\lib\\site-packages (from pandas<3,>=1.3.0->streamlit>=0.63->streamlit-tensorboard) (2023.3.post1)\n",
      "Requirement already satisfied: tzdata>=2022.1 in c:\\users\\julius\\anaconda3\\lib\\site-packages (from pandas<3,>=1.3.0->streamlit>=0.63->streamlit-tensorboard) (2023.3)\n",
      "Requirement already satisfied: charset-normalizer<4,>=2 in c:\\users\\julius\\anaconda3\\lib\\site-packages (from requests<3,>=2.27->streamlit>=0.63->streamlit-tensorboard) (2.0.4)\n",
      "Requirement already satisfied: idna<4,>=2.5 in c:\\users\\julius\\anaconda3\\lib\\site-packages (from requests<3,>=2.27->streamlit>=0.63->streamlit-tensorboard) (3.4)\n",
      "Requirement already satisfied: urllib3<3,>=1.21.1 in c:\\users\\julius\\anaconda3\\lib\\site-packages (from requests<3,>=2.27->streamlit>=0.63->streamlit-tensorboard) (1.26.16)\n",
      "Requirement already satisfied: certifi>=2017.4.17 in c:\\users\\julius\\anaconda3\\lib\\site-packages (from requests<3,>=2.27->streamlit>=0.63->streamlit-tensorboard) (2023.7.22)\n",
      "Requirement already satisfied: markdown-it-py>=2.2.0 in c:\\users\\julius\\anaconda3\\lib\\site-packages (from rich<14,>=10.14.0->streamlit>=0.63->streamlit-tensorboard) (2.2.0)\n",
      "Requirement already satisfied: pygments<3.0.0,>=2.13.0 in c:\\users\\julius\\anaconda3\\lib\\site-packages (from rich<14,>=10.14.0->streamlit>=0.63->streamlit-tensorboard) (2.15.1)\n",
      "Requirement already satisfied: MarkupSafe>=2.1.1 in c:\\users\\julius\\anaconda3\\lib\\site-packages (from werkzeug>=1.0.1->tensorboard>=2.5.0->streamlit-tensorboard) (2.1.1)\n",
      "Requirement already satisfied: smmap<6,>=3.0.1 in c:\\users\\julius\\anaconda3\\lib\\site-packages (from gitdb<5,>=4.0.1->gitpython!=3.1.19,<4,>=3.0.7->streamlit>=0.63->streamlit-tensorboard) (5.0.1)\n",
      "Requirement already satisfied: attrs>=17.4.0 in c:\\users\\julius\\anaconda3\\lib\\site-packages (from jsonschema>=3.0->altair<6,>=4.0->streamlit>=0.63->streamlit-tensorboard) (22.1.0)\n",
      "Requirement already satisfied: pyrsistent!=0.17.0,!=0.17.1,!=0.17.2,>=0.14.0 in c:\\users\\julius\\anaconda3\\lib\\site-packages (from jsonschema>=3.0->altair<6,>=4.0->streamlit>=0.63->streamlit-tensorboard) (0.18.0)\n",
      "Requirement already satisfied: mdurl~=0.1 in c:\\users\\julius\\anaconda3\\lib\\site-packages (from markdown-it-py>=2.2.0->rich<14,>=10.14.0->streamlit>=0.63->streamlit-tensorboard) (0.1.0)\n",
      "Downloading streamlit_tensorboard-0.0.2-py3-none-any.whl (3.4 kB)\n",
      "Installing collected packages: streamlit-tensorboard\n",
      "Successfully installed streamlit-tensorboard-0.0.2\n",
      "Note: you may need to restart the kernel to use updated packages.\n"
     ]
    }
   ],
   "source": [
    "%pip install streamlit-tensorboard"
   ]
  }
 ],
 "metadata": {
  "kernelspec": {
   "display_name": "base",
   "language": "python",
   "name": "python3"
  },
  "language_info": {
   "codemirror_mode": {
    "name": "ipython",
    "version": 3
   },
   "file_extension": ".py",
   "mimetype": "text/x-python",
   "name": "python",
   "nbconvert_exporter": "python",
   "pygments_lexer": "ipython3",
   "version": "3.11.5"
  }
 },
 "nbformat": 4,
 "nbformat_minor": 2
}
